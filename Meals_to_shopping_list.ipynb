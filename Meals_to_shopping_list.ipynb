{
 "cells": [
  {
   "cell_type": "code",
   "execution_count": 1,
   "metadata": {},
   "outputs": [],
   "source": [
    "from lib import Grocery, RecipeIngredient, Recipe, MealPlanIngredient, MealPlan"
   ]
  },
  {
   "cell_type": "code",
   "execution_count": 3,
   "metadata": {},
   "outputs": [],
   "source": []
  },
  {
   "cell_type": "code",
   "execution_count": 2,
   "metadata": {},
   "outputs": [],
   "source": [
    "g1 = Grocery(\"tuna\", \"can\", True)\n",
    "g2 = Grocery(\"bread\", \"slice\", False)\n",
    "ri1 = RecipeIngredient(g1, 1)\n",
    "ri2 = RecipeIngredient(g2, 2)\n",
    "\n",
    "r1 = Recipe({ri1, ri2}, 1)\n",
    "mpi1 = MealPlanIngredient(r1, 7)\n",
    "\n",
    "\n",
    "g3 = Grocery(\"muesli\", \"g\", True)\n",
    "g4 = Grocery(\"milk\", \"ml\", False)\n",
    "ri3 = RecipeIngredient(g3, 100)\n",
    "ri4 = RecipeIngredient(g4, 200)\n",
    "\n",
    "r2 = Recipe({ri3, ri4}, 1)\n",
    "\n",
    "mpi2 = MealPlanIngredient(r2, 7)\n",
    "\n",
    "\n",
    "mp = MealPlan({mpi1, mpi2})"
   ]
  },
  {
   "cell_type": "code",
   "execution_count": 5,
   "metadata": {},
   "outputs": [],
   "source": [
    "all_groceries = [g1, g2, g3, g4]"
   ]
  },
  {
   "cell_type": "code",
   "execution_count": 6,
   "metadata": {},
   "outputs": [],
   "source": [
    "shopping_list = {}\n",
    "for grocery in all_groceries:\n",
    "    shopping_list[id(g)] = 0\n",
    "    \n",
    "for meal_plan_ingredient in mp.meal_plan_ingredients:\n",
    "    recipe = meal_plan_ingredient.recipe\n",
    "    for ingredient in recipe.ingredients:\n",
    "        shopping_list[id(ingredient.grocery)] += ingredient.amount * meal_plan_ingredient.amount"
   ]
  },
  {
   "cell_type": "code",
   "execution_count": 8,
   "metadata": {},
   "outputs": [
    {
     "name": "stdout",
     "output_type": "stream",
     "text": [
      "7 can tuna\n",
      "14 slice bread\n",
      "700 g muesli\n",
      "1400 ml milk\n"
     ]
    }
   ],
   "source": [
    "for g in all_groceries:\n",
    "    if shopping_list[id(g)] != 0:\n",
    "        print(shopping_list[id(g)], g.unit, g.name)"
   ]
  },
  {
   "cell_type": "code",
   "execution_count": null,
   "metadata": {},
   "outputs": [],
   "source": []
  },
  {
   "cell_type": "code",
   "execution_count": null,
   "metadata": {},
   "outputs": [],
   "source": []
  }
 ],
 "metadata": {
  "kernelspec": {
   "display_name": "Python [default]",
   "language": "python",
   "name": "python3"
  },
  "language_info": {
   "codemirror_mode": {
    "name": "ipython",
    "version": 3
   },
   "file_extension": ".py",
   "mimetype": "text/x-python",
   "name": "python",
   "nbconvert_exporter": "python",
   "pygments_lexer": "ipython3",
   "version": "3.6.8"
  }
 },
 "nbformat": 4,
 "nbformat_minor": 2
}
