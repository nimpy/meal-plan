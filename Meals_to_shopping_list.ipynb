{
 "cells": [
  {
   "cell_type": "code",
   "execution_count": 1,
   "metadata": {},
   "outputs": [],
   "source": [
    "class Grocery:\n",
    "    def __init__(self, name, unit, ninz_friendly):\n",
    "        self.name = name\n",
    "        self.unit = unit\n",
    "        self.ninz_friendly = ninz_friendly\n",
    "\n",
    "\n",
    "class Ingredient:\n",
    "    def __init__(self, grocery, amount):\n",
    "        self.grocery = grocery\n",
    "        self.amount = amount\n",
    "\n",
    "\n",
    "class Meal:\n",
    "    def __init__(self, ingredients):\n",
    "        self.ingredients = ingredients\n",
    "\n"
   ]
  },
  {
   "cell_type": "code",
   "execution_count": 2,
   "metadata": {},
   "outputs": [],
   "source": [
    "g1 = Grocery(\"tuna\", \"can\", True)\n",
    "g2 = Grocery(\"bread\", \"slice\", False)\n",
    "i1 = Ingredient(g1, 1)\n",
    "i2 = Ingredient(g2, 2)\n",
    "\n",
    "m = Meal({i1, i2})"
   ]
  },
  {
   "cell_type": "code",
   "execution_count": 4,
   "metadata": {},
   "outputs": [
    {
     "name": "stdout",
     "output_type": "stream",
     "text": [
      "2 slice bread\n",
      "1 can tuna\n"
     ]
    }
   ],
   "source": [
    "for ingredient in m.ingredients:\n",
    "    print(ingredient.amount, ingredient.grocery.unit, ingredient.grocery.name)"
   ]
  },
  {
   "cell_type": "code",
   "execution_count": null,
   "metadata": {},
   "outputs": [],
   "source": []
  }
 ],
 "metadata": {
  "kernelspec": {
   "display_name": "Python [default]",
   "language": "python",
   "name": "python3"
  },
  "language_info": {
   "codemirror_mode": {
    "name": "ipython",
    "version": 3
   },
   "file_extension": ".py",
   "mimetype": "text/x-python",
   "name": "python",
   "nbconvert_exporter": "python",
   "pygments_lexer": "ipython3",
   "version": "3.6.8"
  }
 },
 "nbformat": 4,
 "nbformat_minor": 2
}
