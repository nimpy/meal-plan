{
 "cells": [
  {
   "cell_type": "code",
   "execution_count": 1,
   "metadata": {},
   "outputs": [],
   "source": [
    "from lib import Grocery, RecipeIngredient, Recipe, MealPlanIngredient, MealPlan"
   ]
  },
  {
   "cell_type": "code",
   "execution_count": 2,
   "metadata": {
    "scrolled": true
   },
   "outputs": [],
   "source": [
    "all_groceries = []\n",
    "\n",
    "file = open('db/groceries.txt', 'r') \n",
    "count = 0\n",
    "\n",
    "while True:\n",
    "    line = file.readline()\n",
    "    if not line: \n",
    "        break\n",
    "    \n",
    "    if line == \"\\n\":\n",
    "        continue\n",
    "\n",
    "    line = line.replace(\"\\n\", \"\")\n",
    "    line_separated = line.split(\", \")\n",
    "    grocery_name = line_separated[0]\n",
    "    grocery_unit = line_separated[1]\n",
    "    g = Grocery(grocery_name, grocery_unit)\n",
    "    all_groceries.append(g)\n",
    "    count += 1\n",
    "file.close()"
   ]
  },
  {
   "cell_type": "code",
   "execution_count": 3,
   "metadata": {
    "scrolled": true
   },
   "outputs": [
    {
     "name": "stdout",
     "output_type": "stream",
     "text": [
      "potato\n",
      "brown onion\n",
      "red onion\n",
      "garlic\n",
      "shallot\n",
      "basil\n",
      "coriander\n",
      "parsley\n",
      "snowepeas\n",
      "lemongrass\n",
      "shitty Flemish mushrooms\n",
      "shiitake musrhooms\n",
      "salad\n",
      "spinach\n",
      "baby spinach\n",
      "avocado\n",
      "eggplant\n",
      "zucchini\n",
      "cucumber\n",
      "tomato\n",
      "cherry tomatoes\n",
      "capsicum\n",
      "red capsicum\n",
      "yellow capsicum\n",
      "carrot\n",
      "sweet potato\n",
      "broccoli\n",
      "pumpkin\n",
      "ginger\n",
      "spring onion\n",
      "green chilly\n",
      "red chilly\n",
      "lime\n",
      "lemon\n",
      "fruit\n",
      "bananas\n",
      "wraps\n",
      "rice\n",
      "risotto rice\n",
      "coconut cream\n",
      "chickpeas\n",
      "beans\n",
      "parmesan\n",
      "mozzarella\n",
      "sahne\n",
      "yoghurt\n",
      "milk\n",
      "tuna\n",
      "bread\n",
      "peanut butter\n",
      "vanilla extract\n",
      "muesli\n",
      "eggs\n",
      "pasta sauce\n",
      "penne\n",
      "tagliatelle\n",
      "white wine\n",
      "lentils\n",
      "cumin seeds\n",
      "dosa mix\n",
      "tofu\n",
      "flour\n",
      "nori\n",
      "sushi rice\n",
      "sushi rice vinegar\n",
      "sesame seeds\n",
      "almonds\n",
      "walnuts\n"
     ]
    }
   ],
   "source": [
    "for grocery in all_groceries:\n",
    "    print(grocery.name)"
   ]
  },
  {
   "cell_type": "code",
   "execution_count": 4,
   "metadata": {},
   "outputs": [],
   "source": [
    "def return_grocery_object_by_name(grocery_name, all_groceries):\n",
    "    for grocery in all_groceries:\n",
    "        if grocery.name == grocery_name:\n",
    "            return grocery\n",
    "    raise Exception(\"Couldn't find \" + grocery_name + \" in the list of all groceries\")"
   ]
  },
  {
   "cell_type": "code",
   "execution_count": null,
   "metadata": {},
   "outputs": [],
   "source": []
  },
  {
   "cell_type": "code",
   "execution_count": 5,
   "metadata": {
    "scrolled": true
   },
   "outputs": [
    {
     "name": "stdout",
     "output_type": "stream",
     "text": [
      "The Classic Pasta, 4\n",
      "pasta sauce, 1\n",
      "penne, 1\n",
      "eggplant, 5\n",
      "zucchini, 1\n",
      "brown onion, 0.5 \n",
      "garlic, 1\n",
      "basil, 1\n",
      "\n",
      "Fede's Pasta, 4\n",
      "tagliatelle, 1\n",
      "garlic, 1\n",
      "brown onion, 0.5\n",
      "pumpkin, 1\n",
      "white wine, 1\n",
      "shitty Flemish mushrooms, 500\n",
      "parsley, 1\n",
      "sahne, 1\n",
      "parmesan, 1\n",
      "\n",
      "Risotto, 6\n",
      "risotto rice, 1000\n",
      "parmesan, 1\n",
      "brown onion, 0.75\n",
      "garlic, 2\n",
      "cherry tomatoes, 100\n",
      "spinach, 800\n",
      "pumpkin, 1\n",
      "zucchini, 1\n",
      "red capsicum, 3\n",
      "carrot, 2\n",
      "shitty Flemish mushrooms, 750\n",
      "\n",
      "The Peanut Butter Toast, 2\n",
      "peanut butter, 100\n",
      "bread, 4\n",
      "\n",
      "The Muesli and Milk, 1\n",
      "muesli, 150\n",
      "milk, 200\n",
      "\n"
     ]
    }
   ],
   "source": [
    "all_recipes = []\n",
    "\n",
    "file = open('db/recipes.txt', 'r') \n",
    "count = 0\n",
    "\n",
    "recipe_start = True\n",
    "recipe_name = \"\"\n",
    "ingredients = []\n",
    "recipe_servings = 0\n",
    "\n",
    "while True:\n",
    "    line = file.readline()\n",
    "    if not line: \n",
    "        break\n",
    "    \n",
    "    line = line.replace(\"\\n\", \"\")\n",
    "    line_separated = line.split(\", \")\n",
    "    print(line)\n",
    "    \n",
    "    if line != \"\" and recipe_start:\n",
    "        recipe_name = line_separated[0]\n",
    "        recipe_servings = int(line_separated[1])\n",
    "        recipe_start = False\n",
    "    elif line != \"\":\n",
    "        grocery_name = line_separated[0]\n",
    "        grocery_amount = float(line_separated[1])\n",
    "        grocery = return_grocery_object_by_name(grocery_name, all_groceries)\n",
    "        ri = RecipeIngredient(grocery, grocery_amount)\n",
    "        ingredients.append(ri)\n",
    "  \n",
    "    else:  # line == \"\":\n",
    "        recipe = Recipe(recipe_name, ingredients, recipe_servings)\n",
    "        all_recipes.append(recipe)\n",
    "        recipe_start = True\n",
    "        recipe_name = \"\"\n",
    "        ingredients = []\n",
    "        recipe_servings = 0\n",
    "    \n",
    "    count += 1\n",
    "file.close()"
   ]
  },
  {
   "cell_type": "code",
   "execution_count": 7,
   "metadata": {},
   "outputs": [
    {
     "name": "stdout",
     "output_type": "stream",
     "text": [
      "How many times this week will you make The Classic Pasta?  1\n",
      "How many times this week will you make Fede's Pasta?  0\n",
      "How many times this week will you make Risotto?  1\n",
      "How many times this week will you make The Peanut Butter Toast?  42\n",
      "How many times this week will you make The Muesli and Milk?  69\n"
     ]
    }
   ],
   "source": [
    "meal_plan_ingredients = []\n",
    "\n",
    "for recipe in all_recipes:\n",
    "    mpi_amount = int(input(\"How many times this week will you make \" + recipe.name + \"?  \"))\n",
    "    mpi = MealPlanIngredient(recipe, mpi_amount)\n",
    "    meal_plan_ingredients.append(mpi)\n",
    "\n",
    "meal_plan = MealPlan(meal_plan_ingredients)"
   ]
  },
  {
   "cell_type": "code",
   "execution_count": 8,
   "metadata": {},
   "outputs": [],
   "source": [
    "shopping_list = {}\n",
    "for grocery in all_groceries:\n",
    "    shopping_list[grocery.name] = 0\n",
    "    \n",
    "for meal_plan_ingredient in meal_plan.meal_plan_ingredients:\n",
    "    recipe = meal_plan_ingredient.recipe\n",
    "    for ingredient in recipe.ingredients:\n",
    "        shopping_list[ingredient.grocery.name] += ingredient.amount * meal_plan_ingredient.amount"
   ]
  },
  {
   "cell_type": "code",
   "execution_count": 9,
   "metadata": {},
   "outputs": [
    {
     "name": "stdout",
     "output_type": "stream",
     "text": [
      " 1.25 kg      brown onion         \n",
      "    3 piece   garlic              \n",
      "    1 box     basil               \n",
      "  750 g       shitty Flemish mushrooms\n",
      "  800 g       spinach             \n",
      "    5 piece   eggplant            \n",
      "    2 piece   zucchini            \n",
      "  100 g       cherry tomatoes     \n",
      "    3 piece   red capsicum        \n",
      "    2 piece   carrot              \n",
      "    1 piece   pumpkin             \n",
      " 1000 g       risotto rice        \n",
      "    1 box     parmesan            \n",
      "13800 ml      milk                \n",
      "  168 slice   bread               \n",
      " 4200 g       peanut butter       \n",
      "10350 g       muesli              \n",
      "    1 bottle  pasta sauce         \n",
      "    1 package penne               \n"
     ]
    }
   ],
   "source": [
    "for grocery in all_groceries:\n",
    "    if shopping_list[grocery.name] != 0:\n",
    "#         print(shopping_list[grocery.name], grocery.unit, grocery.name)\n",
    "        print(('%f' % shopping_list[grocery.name]).rstrip('0').rstrip('.').rjust(5), grocery.unit.ljust(7), grocery.name.ljust(20))"
   ]
  },
  {
   "cell_type": "code",
   "execution_count": null,
   "metadata": {},
   "outputs": [],
   "source": []
  }
 ],
 "metadata": {
  "kernelspec": {
   "display_name": "Python [default]",
   "language": "python",
   "name": "python3"
  },
  "language_info": {
   "codemirror_mode": {
    "name": "ipython",
    "version": 3
   },
   "file_extension": ".py",
   "mimetype": "text/x-python",
   "name": "python",
   "nbconvert_exporter": "python",
   "pygments_lexer": "ipython3",
   "version": "3.6.8"
  }
 },
 "nbformat": 4,
 "nbformat_minor": 2
}
