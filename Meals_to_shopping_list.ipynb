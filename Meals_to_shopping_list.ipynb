{
 "cells": [
  {
   "cell_type": "code",
   "execution_count": 1,
   "metadata": {},
   "outputs": [],
   "source": [
    "from lib import Grocery, RecipeIngredient, Recipe, MealPlanIngredient, MealPlan"
   ]
  },
  {
   "cell_type": "code",
   "execution_count": 3,
   "metadata": {},
   "outputs": [],
   "source": []
  },
  {
   "cell_type": "code",
   "execution_count": 2,
   "metadata": {},
   "outputs": [],
   "source": [
    "g1 = Grocery(\"tuna\", \"can\", True)\n",
    "g2 = Grocery(\"bread\", \"slice\", False)\n",
    "ri1 = RecipeIngredient(g1, 1)\n",
    "ri2 = RecipeIngredient(g2, 2)\n",
    "\n",
    "r1 = Recipe({ri1, ri2}, 1)\n",
    "mpi1 = MealPlanIngredient(r1, 7)\n",
    "\n",
    "\n",
    "g3 = Grocery(\"muesli\", \"g\", True)\n",
    "g4 = Grocery(\"milk\", \"ml\", False)\n",
    "ri3 = RecipeIngredient(g3, 100)\n",
    "ri4 = RecipeIngredient(g4, 200)\n",
    "\n",
    "r2 = Recipe({ri3, ri4}, 1)\n",
    "\n",
    "mpi2 = MealPlanIngredient(r2, 7)\n",
    "\n",
    "\n",
    "mp = MealPlan({mpi1, mpi2})"
   ]
  },
  {
   "cell_type": "code",
   "execution_count": 3,
   "metadata": {},
   "outputs": [
    {
     "name": "stdout",
     "output_type": "stream",
     "text": [
      "1400 ml milk\n",
      "700 g muesli\n",
      "14 slice bread\n",
      "7 can tuna\n"
     ]
    }
   ],
   "source": [
    "shopping_list = {}\n",
    "for meal_plan_ingredient in mp.meal_plan_ingredients:\n",
    "    recipe = meal_plan_ingredient.recipe\n",
    "    for ingredient in recipe.ingredients:\n",
    "#         shopping_list[id(ingredient)] = ingredient.amount * meal_plan_ingredient.amount\n",
    "        print(ingredient.amount * meal_plan_ingredient.amount, ingredient.grocery.unit, ingredient.grocery.name)"
   ]
  },
  {
   "cell_type": "code",
   "execution_count": 3,
   "metadata": {},
   "outputs": [
    {
     "name": "stdout",
     "output_type": "stream",
     "text": [
      "1 can tuna\n",
      "2 slice bread\n"
     ]
    }
   ],
   "source": [
    "for ingredient in r.ingredients:\n",
    "    print(ingredient.amount, ingredient.grocery.unit, ingredient.grocery.name)"
   ]
  },
  {
   "cell_type": "code",
   "execution_count": null,
   "metadata": {},
   "outputs": [],
   "source": []
  }
 ],
 "metadata": {
  "kernelspec": {
   "display_name": "Python [default]",
   "language": "python",
   "name": "python3"
  },
  "language_info": {
   "codemirror_mode": {
    "name": "ipython",
    "version": 3
   },
   "file_extension": ".py",
   "mimetype": "text/x-python",
   "name": "python",
   "nbconvert_exporter": "python",
   "pygments_lexer": "ipython3",
   "version": "3.6.8"
  }
 },
 "nbformat": 4,
 "nbformat_minor": 2
}
