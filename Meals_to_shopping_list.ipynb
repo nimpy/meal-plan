{
 "cells": [
  {
   "cell_type": "code",
   "execution_count": 1,
   "metadata": {},
   "outputs": [],
   "source": [
    "from lib import Grocery, RecipeIngredient, Recipe, MealPlanIngredient, MealPlan"
   ]
  },
  {
   "cell_type": "code",
   "execution_count": 2,
   "metadata": {
    "scrolled": true
   },
   "outputs": [],
   "source": [
    "all_groceries = Grocery.get_all_groceries()"
   ]
  },
  {
   "cell_type": "code",
   "execution_count": 3,
   "metadata": {
    "scrolled": true
   },
   "outputs": [
    {
     "name": "stdout",
     "output_type": "stream",
     "text": [
      "potato\n",
      "brown onion\n",
      "red onion\n",
      "garlic\n",
      "shallot\n",
      "basil\n",
      "coriander\n",
      "parsley\n",
      "snowepeas\n",
      "lemongrass\n",
      "shitty Flemish mushrooms\n",
      "shiitake musrhooms\n",
      "salad\n",
      "spinach\n",
      "baby spinach\n",
      "avocado\n",
      "eggplant\n",
      "zucchini\n",
      "cucumber\n",
      "tomato\n",
      "fancy tomato\n",
      "cherry tomatoes\n",
      "capsicum\n",
      "red capsicum\n",
      "yellow capsicum\n",
      "carrot\n",
      "sweet potato\n",
      "broccoli\n",
      "pumpkin\n",
      "ginger\n",
      "spring onion\n",
      "green chilly\n",
      "red chilly\n",
      "lime\n",
      "lemon\n",
      "fruit\n",
      "berries\n",
      "banana\n",
      "wraps\n",
      "rice\n",
      "risotto rice\n",
      "coconut cream\n",
      "chickpeas\n",
      "beans\n",
      "fake meat\n",
      "parmesan\n",
      "mozzarella\n",
      "sahne\n",
      "yoghurt\n",
      "milk\n",
      "soy milk\n",
      "tuna\n",
      "bread\n",
      "peanut butter\n",
      "vanilla extract\n",
      "muesli\n",
      "eggs\n",
      "pasta sauce\n",
      "penne\n",
      "tagliatelle\n",
      "chocolate 90\n",
      "chocolate 86\n",
      "chocolate 65\n",
      "chocolate\n",
      "white wine\n",
      "lentils\n",
      "cumin seeds\n",
      "cardamom\n",
      "dosa mix\n",
      "tofu\n",
      "soy sauce\n",
      "nori\n",
      "sushi rice\n",
      "sushi rice vinegar\n",
      "wasabi\n",
      "flour\n",
      "friedhelm\n",
      "sesame seeds\n",
      "almonds\n",
      "walnuts\n",
      "cinnamon\n",
      "baking soda\n",
      "salt\n",
      "coconut oil\n",
      "sunflower oil\n",
      "olive oil cheap\n",
      "olive oil fancy\n",
      "balsamic vinegar\n",
      "water\n",
      "emergency sparkling water\n",
      "alkohol-frei bierschen\n",
      "green tea\n",
      "black tea\n"
     ]
    }
   ],
   "source": [
    "for grocery in all_groceries:\n",
    "    print(grocery.name)"
   ]
  },
  {
   "cell_type": "code",
   "execution_count": null,
   "metadata": {},
   "outputs": [],
   "source": []
  },
  {
   "cell_type": "code",
   "execution_count": 4,
   "metadata": {},
   "outputs": [],
   "source": [
    "all_recipes = Recipe.get_all_recipes()"
   ]
  },
  {
   "cell_type": "code",
   "execution_count": 6,
   "metadata": {},
   "outputs": [
    {
     "name": "stdout",
     "output_type": "stream",
     "text": [
      "How many times this week will you make The Classic Pasta?  1\n",
      "How many times this week will you make Fede's Pasta?  0\n",
      "How many times this week will you make Risotto (with pumpkin)?  0\n",
      "How many times this week will you make Risotto (with sweet potato)?  1\n",
      "How many times this week will you make Asiatische Wok?  1\n",
      "How many times this week will you make Sushi from Japan?  1\n",
      "How many times this week will you make Daal?  1\n",
      "How many times this week will you make Masala Dosa?  0\n",
      "How many times this week will you make Green Curry?  0\n",
      "How many times this week will you make Pizza?  0\n",
      "How many times this week will you make Mega Vega Burger?  1\n",
      "How many times this week will you make The Salad?  1\n",
      "How many times this week will you make The Classic Wraps?  2\n",
      "How many times this week will you make Bruschetta?  0\n",
      "How many times this week will you make The Classic Breakfast?  0\n",
      "How many times this week will you make The Three* Ingredient Pancakes?  0\n",
      "How many times this week will you make The Peanut Butter Toast?  0\n",
      "How many times this week will you make The Muesli and Milk?  0\n",
      "How many times this week will you make The Muesli and Yoghurt?  0\n",
      "How many times this week will you make The Oats and Boiling Water and Cinnamon?  0\n",
      "How many times this week will you make The Tuna and Bread and Leftover Salad?  0\n",
      "How many times this week will you make The Peanut Butter On Chocolate?  0\n",
      "How many times this week will you make The Almonds with Chocolate?  0\n",
      "How many times this week will you make The Banana or Two?  0\n",
      "How many times this week will you make The Fruit?  0\n",
      "How many times this week will you make Banana bread Y.U.M.M.Y.?  0\n",
      "How many times this week will you make The Water?  0\n",
      "How many times this week will you make The Emergency Sparkling Water?  0\n",
      "How many times this week will you make The Alkohol-frei Bierschen?  0\n",
      "How many times this week will you make The Green Tea?  0\n",
      "How many times this week will you make The Black Tea?  0\n",
      "How many times this week will you make Chai Latte?  0\n"
     ]
    }
   ],
   "source": [
    "meal_plan_ingredients = []\n",
    "\n",
    "for recipe in all_recipes:\n",
    "    mpi_amount = int(input(\"How many times this week will you make \" + recipe.name + \"?  \"))\n",
    "    mpi = MealPlanIngredient(recipe, mpi_amount)\n",
    "    meal_plan_ingredients.append(mpi)\n",
    "\n",
    "meal_plan = MealPlan(meal_plan_ingredients)"
   ]
  },
  {
   "cell_type": "code",
   "execution_count": 7,
   "metadata": {},
   "outputs": [],
   "source": [
    "shopping_list = {}\n",
    "for grocery in all_groceries:\n",
    "    shopping_list[grocery.name] = 0\n",
    "    \n",
    "for meal_plan_ingredient in meal_plan.meal_plan_ingredients:\n",
    "    recipe = meal_plan_ingredient.recipe\n",
    "    for ingredient in recipe.ingredients:\n",
    "        shopping_list[ingredient.grocery.name] += ingredient.amount * meal_plan_ingredient.amount"
   ]
  },
  {
   "cell_type": "code",
   "execution_count": 8,
   "metadata": {
    "scrolled": true
   },
   "outputs": [
    {
     "name": "stdout",
     "output_type": "stream",
     "text": [
      " 1.75 kg      brown onion         \n",
      "  0.5 kg      red onion           \n",
      "    7 piece   garlic              \n",
      "  100 g       shallot             \n",
      "    1 box     coriander           \n",
      "  750 g       shitty Flemish mushrooms\n",
      "    3 bag     salad               \n",
      "  800 g       spinach             \n",
      "  200 g       baby spinach        \n",
      "    9 piece   avocado             \n",
      "    5 piece   eggplant            \n",
      "    2 piece   zucchini            \n",
      "    1 piece   cucumber            \n",
      "    8 piece   tomato              \n",
      "    6 piece   fancy tomato        \n",
      "  100 g       cherry tomatoes     \n",
      "    6 piece   capsicum            \n",
      "    3 piece   red capsicum        \n",
      "    2 piece   carrot              \n",
      "    2 kg      sweet potato        \n",
      "    2 piece   broccoli            \n",
      "    2 piece   ginger              \n",
      "    2 piece   green chilly        \n",
      "    7 piece   red chilly          \n",
      "    6 piece   lime                \n",
      "    8 package wraps               \n",
      "  700 g       rice                \n",
      " 1000 g       risotto rice        \n",
      "    2 can     beans               \n",
      "    1 package fake meat           \n",
      "    1 box     parmesan            \n",
      "    1 bottle  pasta sauce         \n",
      "    1 package penne               \n",
      "  810 g       lentils             \n",
      "  500 g       dosa mix            \n",
      "    1 package tofu                \n",
      "  300 ml      soy sauce           \n",
      "   15 sheet   nori                \n",
      "    1 kg      sushi rice          \n",
      "  250 ml      sushi rice vinegar  \n",
      "   10 g       wasabi              \n",
      "  100 g       almonds             \n",
      "   10 g       salt                \n",
      "   20 ml      olive oil fancy     \n",
      "   10 ml      balsamic vinegar    \n"
     ]
    }
   ],
   "source": [
    "for grocery in all_groceries:\n",
    "    if shopping_list[grocery.name] != 0:\n",
    "#         print(shopping_list[grocery.name], grocery.unit, grocery.name)\n",
    "        print(('%f' % shopping_list[grocery.name]).rstrip('0').rstrip('.').rjust(5), grocery.unit.ljust(7), grocery.name.ljust(20))"
   ]
  },
  {
   "cell_type": "code",
   "execution_count": null,
   "metadata": {},
   "outputs": [],
   "source": []
  },
  {
   "cell_type": "code",
   "execution_count": null,
   "metadata": {},
   "outputs": [],
   "source": []
  },
  {
   "cell_type": "code",
   "execution_count": 13,
   "metadata": {},
   "outputs": [],
   "source": [
    "shopping_list = {}  # key: grocery name; value: tuple(amount, list of recipes)\n",
    "for grocery in all_groceries:\n",
    "    shopping_list[grocery.name] = [0, []]\n",
    "    \n",
    "for meal_plan_ingredient in meal_plan.meal_plan_ingredients:\n",
    "    recipe = meal_plan_ingredient.recipe\n",
    "    for ingredient in recipe.ingredients:\n",
    "        shopping_list[ingredient.grocery.name][0] += ingredient.amount * meal_plan_ingredient.amount\n",
    "        if meal_plan_ingredient.amount > 0:\n",
    "            shopping_list[ingredient.grocery.name][1].append(recipe.name)"
   ]
  },
  {
   "cell_type": "code",
   "execution_count": 21,
   "metadata": {},
   "outputs": [
    {
     "name": "stdout",
     "output_type": "stream",
     "text": [
      "brown onion           1.75 kg     \n",
      "red onion              0.5 kg     \n",
      "garlic                   7 piece  \n",
      "shallot                100 g      \n",
      "coriander                1 box    \n",
      "shitty Flemish mushrooms   750 g      \n",
      "salad                The Salad, The Classic Wraps\n",
      "spinach                800 g      \n",
      "baby spinach           200 g      \n",
      "avocado              Sushi from Japan, The Salad, The Classic Wraps\n",
      "eggplant             Asiatische Wok\n",
      "zucchini             Risotto (with sweet potato), Asiatische Wok\n",
      "cucumber             Sushi from Japan\n",
      "tomato               Daal\n",
      "fancy tomato         Mega Vega Burger, The Classic Wraps\n",
      "cherry tomatoes      Risotto (with sweet potato)\n",
      "capsicum             Asiatische Wok, Sushi from Japan, The Classic Wraps\n",
      "red capsicum         Risotto (with sweet potato)\n",
      "carrot               Risotto (with sweet potato)\n",
      "sweet potato         Risotto (with sweet potato), Sushi from Japan, The Classic Wraps\n",
      "broccoli             Asiatische Wok\n",
      "ginger               Asiatische Wok, Daal\n",
      "green chilly         Daal\n",
      "red chilly           The Classic Pasta, The Classic Wraps\n",
      "lime                     6 piece  \n",
      "fake meat                1 package\n",
      "parmesan                 1 box    \n",
      "tofu                     1 package\n"
     ]
    }
   ],
   "source": [
    "for grocery in all_groceries:\n",
    "    if shopping_list[grocery.name][0] != 0:\n",
    "        if grocery.storage_time < 15:\n",
    "            if grocery.ninz_friendly > 0.5:\n",
    "                print(grocery.name.ljust(20), ('%f' % shopping_list[grocery.name][0]).rstrip('0').rstrip('.').rjust(5), grocery.unit.ljust(7))\n",
    "#                 print(grocery.name, shopping_list[grocery.name][0], grocery.unit)\n",
    "            else:\n",
    "#                 print(grocery.name, shopping_list[grocery.name][1])#, grocery.unit)\n",
    "                print(grocery.name.ljust(20), end=' ')\n",
    "#                 print(*shopping_list[grocery.name][1])\n",
    "                print(', '.join(shopping_list[grocery.name][1]))\n",
    "            "
   ]
  },
  {
   "cell_type": "code",
   "execution_count": null,
   "metadata": {},
   "outputs": [],
   "source": []
  },
  {
   "cell_type": "code",
   "execution_count": null,
   "metadata": {},
   "outputs": [],
   "source": []
  },
  {
   "cell_type": "code",
   "execution_count": null,
   "metadata": {},
   "outputs": [],
   "source": []
  },
  {
   "cell_type": "code",
   "execution_count": 27,
   "metadata": {},
   "outputs": [
    {
     "name": "stdout",
     "output_type": "stream",
     "text": [
      "NINZ list\n",
      "brown onion           1.75 kg     \n",
      "red onion              0.5 kg     \n",
      "garlic                   7 piece  \n",
      "shallot                100 g      \n",
      "coriander                1 box    \n",
      "shitty Flemish mushrooms   750 g      \n",
      "spinach                800 g      \n",
      "baby spinach           200 g      \n",
      "lime                     6 piece  \n",
      "fake meat                1 package\n",
      "parmesan                 1 box    \n",
      "tofu                     1 package\n",
      "**********\n",
      "\n",
      "EMZ list 𓂸\n",
      "salad                The Salad, The Classic Wraps\n",
      "avocado              Sushi from Japan, The Salad, The Classic Wraps\n",
      "eggplant             Asiatische Wok\n",
      "zucchini             Risotto (with sweet potato), Asiatische Wok\n",
      "cucumber             Sushi from Japan\n",
      "tomato               Daal\n",
      "fancy tomato         Mega Vega Burger, The Classic Wraps\n",
      "cherry tomatoes      Risotto (with sweet potato)\n",
      "capsicum             Asiatische Wok, Sushi from Japan, The Classic Wraps\n",
      "red capsicum         Risotto (with sweet potato)\n",
      "carrot               Risotto (with sweet potato)\n",
      "sweet potato         Risotto (with sweet potato), Sushi from Japan, The Classic Wraps\n",
      "broccoli             Asiatische Wok\n",
      "ginger               Asiatische Wok, Daal\n",
      "green chilly         Daal\n",
      "red chilly           The Classic Pasta, The Classic Wraps\n",
      "**********\n",
      "\n",
      "Groceries you should already have at home:\n",
      "wraps                    8 package\n",
      "rice                   700 g      \n",
      "risotto rice          1000 g      \n",
      "beans                    2 can    \n",
      "pasta sauce              1 bottle \n",
      "penne                    1 package\n",
      "lentils                810 g      \n",
      "dosa mix               500 g      \n",
      "soy sauce              300 ml     \n",
      "nori                    15 sheet  \n",
      "sushi rice               1 kg     \n",
      "sushi rice vinegar     250 ml     \n",
      "wasabi                  10 g      \n",
      "almonds                100 g      \n",
      "salt                    10 g      \n",
      "olive oil fancy         20 ml     \n",
      "balsamic vinegar        10 ml     \n"
     ]
    }
   ],
   "source": [
    "print('NINZ list')\n",
    "for grocery in all_groceries:\n",
    "    if shopping_list[grocery.name][0] != 0:\n",
    "        if grocery.storage_time < 15:\n",
    "            if grocery.ninz_friendly > 0.5:\n",
    "                print(grocery.name.ljust(20), ('%f' % shopping_list[grocery.name][0]).rstrip('0').rstrip('.').rjust(5), grocery.unit.ljust(7))\n",
    "\n",
    "print('**********')\n",
    "print()\n",
    "print('EMZ list 𓂸')\n",
    "for grocery in all_groceries:\n",
    "    if shopping_list[grocery.name][0] != 0:\n",
    "        if grocery.storage_time < 15:\n",
    "            if grocery.ninz_friendly <= 0.5:\n",
    "                print(grocery.name.ljust(20), ', '.join(shopping_list[grocery.name][1]))\n",
    "\n",
    "print('**********')\n",
    "print()\n",
    "print('Groceries you should already have at home:')\n",
    "for grocery in all_groceries:\n",
    "    if shopping_list[grocery.name][0] != 0:\n",
    "        if grocery.storage_time >= 15:\n",
    "            print(grocery.name.ljust(20), ('%f' % shopping_list[grocery.name][0]).rstrip('0').rstrip('.').rjust(5), grocery.unit.ljust(7))\n",
    "            "
   ]
  },
  {
   "cell_type": "code",
   "execution_count": null,
   "metadata": {},
   "outputs": [],
   "source": []
  },
  {
   "cell_type": "code",
   "execution_count": null,
   "metadata": {},
   "outputs": [],
   "source": []
  },
  {
   "cell_type": "code",
   "execution_count": 28,
   "metadata": {},
   "outputs": [
    {
     "name": "stdout",
     "output_type": "stream",
     "text": [
      "The Classic Pasta\n",
      "Fede's Pasta\n",
      "Risotto (with pumpkin)\n",
      "Risotto (with sweet potato)\n",
      "Asiatische Wok\n",
      "Sushi from Japan\n",
      "Daal\n",
      "Masala Dosa\n",
      "Green Curry\n",
      "Pizza\n",
      "Mega Vega Burger\n",
      "The Salad\n",
      "The Classic Wraps\n",
      "Bruschetta\n",
      "The Classic Breakfast\n",
      "The Three* Ingredient Pancakes\n",
      "The Peanut Butter Toast\n",
      "The Muesli and Milk\n",
      "The Muesli and Yoghurt\n",
      "The Oats and Boiling Water and Cinnamon\n",
      "The Tuna and Bread and Leftover Salad\n",
      "The Peanut Butter On Chocolate\n",
      "The Almonds with Chocolate\n",
      "The Banana or Two\n",
      "The Fruit\n",
      "Banana bread Y.U.M.M.Y.\n",
      "The Water\n",
      "The Emergency Sparkling Water\n",
      "The Alkohol-frei Bierschen\n",
      "The Green Tea\n",
      "The Black Tea\n",
      "Chai Latte\n"
     ]
    }
   ],
   "source": [
    "for recipe in all_recipes:\n",
    "    print(recipe.name)"
   ]
  },
  {
   "cell_type": "code",
   "execution_count": null,
   "metadata": {},
   "outputs": [],
   "source": []
  }
 ],
 "metadata": {
  "kernelspec": {
   "display_name": "Python [default]",
   "language": "python",
   "name": "python3"
  },
  "language_info": {
   "codemirror_mode": {
    "name": "ipython",
    "version": 3
   },
   "file_extension": ".py",
   "mimetype": "text/x-python",
   "name": "python",
   "nbconvert_exporter": "python",
   "pygments_lexer": "ipython3",
   "version": "3.6.8"
  }
 },
 "nbformat": 4,
 "nbformat_minor": 2
}
